{
 "cells": [
  {
   "cell_type": "markdown",
   "id": "443c8429",
   "metadata": {},
   "source": [
    "# NAMA : Dinda Salsabiila Syara Putri Anugrah\n",
    "# NIM     : 1306619024"
   ]
  },
  {
   "cell_type": "markdown",
   "id": "15617a8e",
   "metadata": {},
   "source": [
    "## Mengklasifikasikan Sistem Kristal Katoda Silikat Li-ion Berdasarkan Sifat Fisika dan Kimia nya Menggunakan Metode Decision Tree Classifier"
   ]
  },
  {
   "cell_type": "markdown",
   "id": "04bffbea",
   "metadata": {},
   "source": [
    "### Import Library"
   ]
  },
  {
   "cell_type": "code",
   "execution_count": 1,
   "id": "757b7066",
   "metadata": {},
   "outputs": [],
   "source": [
    "import pandas as pd\n",
    "import numpy as np\n",
    "import matplotlib.pyplot as plt\n",
    "import seaborn as sns\n",
    "import graphviz\n",
    "\n",
    "from sklearn.metrics import confusion_matrix\n",
    "from sklearn.compose import ColumnTransformer\n",
    "from sklearn.preprocessing import OrdinalEncoder, StandardScaler\n",
    "from sklearn.model_selection import train_test_split\n",
    "from sklearn.tree import DecisionTreeClassifier\n",
    "from sklearn.metrics import classification_report\n",
    "from sklearn.metrics import accuracy_score"
   ]
  },
  {
   "cell_type": "markdown",
   "id": "e584be4e",
   "metadata": {},
   "source": [
    "### Read CSV File"
   ]
  },
  {
   "cell_type": "code",
   "execution_count": 2,
   "id": "d6b2bc2e",
   "metadata": {},
   "outputs": [],
   "source": [
    "df = pd.read_csv(\"lithium-ion batteries.csv\")"
   ]
  },
  {
   "cell_type": "code",
   "execution_count": 3,
   "id": "fab0ce97",
   "metadata": {},
   "outputs": [
    {
     "data": {
      "text/html": [
       "<div>\n",
       "<style scoped>\n",
       "    .dataframe tbody tr th:only-of-type {\n",
       "        vertical-align: middle;\n",
       "    }\n",
       "\n",
       "    .dataframe tbody tr th {\n",
       "        vertical-align: top;\n",
       "    }\n",
       "\n",
       "    .dataframe thead th {\n",
       "        text-align: right;\n",
       "    }\n",
       "</style>\n",
       "<table border=\"1\" class=\"dataframe\">\n",
       "  <thead>\n",
       "    <tr style=\"text-align: right;\">\n",
       "      <th></th>\n",
       "      <th>Materials Id</th>\n",
       "      <th>Formula</th>\n",
       "      <th>Spacegroup</th>\n",
       "      <th>Formation Energy (eV)</th>\n",
       "      <th>E Above Hull (eV)</th>\n",
       "      <th>Band Gap (eV)</th>\n",
       "      <th>Nsites</th>\n",
       "      <th>Density (gm/cc)</th>\n",
       "      <th>Volume</th>\n",
       "      <th>Has Bandstructure</th>\n",
       "      <th>Crystal System</th>\n",
       "    </tr>\n",
       "  </thead>\n",
       "  <tbody>\n",
       "    <tr>\n",
       "      <th>0</th>\n",
       "      <td>mp-849394</td>\n",
       "      <td>Li2MnSiO4</td>\n",
       "      <td>Pc</td>\n",
       "      <td>-2.699</td>\n",
       "      <td>0.006</td>\n",
       "      <td>3.462</td>\n",
       "      <td>16</td>\n",
       "      <td>2.993</td>\n",
       "      <td>178.513</td>\n",
       "      <td>True</td>\n",
       "      <td>monoclinic</td>\n",
       "    </tr>\n",
       "    <tr>\n",
       "      <th>1</th>\n",
       "      <td>mp-783909</td>\n",
       "      <td>Li2MnSiO4</td>\n",
       "      <td>P21/c</td>\n",
       "      <td>-2.696</td>\n",
       "      <td>0.008</td>\n",
       "      <td>2.879</td>\n",
       "      <td>32</td>\n",
       "      <td>2.926</td>\n",
       "      <td>365.272</td>\n",
       "      <td>True</td>\n",
       "      <td>monoclinic</td>\n",
       "    </tr>\n",
       "    <tr>\n",
       "      <th>2</th>\n",
       "      <td>mp-761311</td>\n",
       "      <td>Li4MnSi2O7</td>\n",
       "      <td>Cc</td>\n",
       "      <td>-2.775</td>\n",
       "      <td>0.012</td>\n",
       "      <td>3.653</td>\n",
       "      <td>28</td>\n",
       "      <td>2.761</td>\n",
       "      <td>301.775</td>\n",
       "      <td>True</td>\n",
       "      <td>monoclinic</td>\n",
       "    </tr>\n",
       "    <tr>\n",
       "      <th>3</th>\n",
       "      <td>mp-761598</td>\n",
       "      <td>Li4Mn2Si3O10</td>\n",
       "      <td>C2/c</td>\n",
       "      <td>-2.783</td>\n",
       "      <td>0.013</td>\n",
       "      <td>3.015</td>\n",
       "      <td>38</td>\n",
       "      <td>2.908</td>\n",
       "      <td>436.183</td>\n",
       "      <td>True</td>\n",
       "      <td>monoclinic</td>\n",
       "    </tr>\n",
       "    <tr>\n",
       "      <th>4</th>\n",
       "      <td>mp-767709</td>\n",
       "      <td>Li2Mn3Si3O10</td>\n",
       "      <td>C2/c</td>\n",
       "      <td>-2.747</td>\n",
       "      <td>0.016</td>\n",
       "      <td>2.578</td>\n",
       "      <td>36</td>\n",
       "      <td>3.334</td>\n",
       "      <td>421.286</td>\n",
       "      <td>True</td>\n",
       "      <td>monoclinic</td>\n",
       "    </tr>\n",
       "    <tr>\n",
       "      <th>...</th>\n",
       "      <td>...</td>\n",
       "      <td>...</td>\n",
       "      <td>...</td>\n",
       "      <td>...</td>\n",
       "      <td>...</td>\n",
       "      <td>...</td>\n",
       "      <td>...</td>\n",
       "      <td>...</td>\n",
       "      <td>...</td>\n",
       "      <td>...</td>\n",
       "      <td>...</td>\n",
       "    </tr>\n",
       "    <tr>\n",
       "      <th>334</th>\n",
       "      <td>mp-764961</td>\n",
       "      <td>Li6Co(SiO4)2</td>\n",
       "      <td>P1</td>\n",
       "      <td>-2.545</td>\n",
       "      <td>0.071</td>\n",
       "      <td>2.685</td>\n",
       "      <td>17</td>\n",
       "      <td>2.753</td>\n",
       "      <td>171.772</td>\n",
       "      <td>True</td>\n",
       "      <td>triclinic</td>\n",
       "    </tr>\n",
       "    <tr>\n",
       "      <th>335</th>\n",
       "      <td>mp-849520</td>\n",
       "      <td>LiCo3(SiO4)2</td>\n",
       "      <td>P1</td>\n",
       "      <td>-2.250</td>\n",
       "      <td>0.076</td>\n",
       "      <td>0.005</td>\n",
       "      <td>42</td>\n",
       "      <td>3.318</td>\n",
       "      <td>552.402</td>\n",
       "      <td>True</td>\n",
       "      <td>triclinic</td>\n",
       "    </tr>\n",
       "    <tr>\n",
       "      <th>336</th>\n",
       "      <td>mp-849656</td>\n",
       "      <td>Li5Co4(Si3O10)2</td>\n",
       "      <td>P1</td>\n",
       "      <td>-2.529</td>\n",
       "      <td>0.082</td>\n",
       "      <td>0.176</td>\n",
       "      <td>35</td>\n",
       "      <td>2.940</td>\n",
       "      <td>428.648</td>\n",
       "      <td>True</td>\n",
       "      <td>triclinic</td>\n",
       "    </tr>\n",
       "    <tr>\n",
       "      <th>337</th>\n",
       "      <td>mp-763557</td>\n",
       "      <td>LiCoSiO4</td>\n",
       "      <td>P1</td>\n",
       "      <td>-2.348</td>\n",
       "      <td>0.087</td>\n",
       "      <td>1.333</td>\n",
       "      <td>14</td>\n",
       "      <td>2.451</td>\n",
       "      <td>214.044</td>\n",
       "      <td>True</td>\n",
       "      <td>triclinic</td>\n",
       "    </tr>\n",
       "    <tr>\n",
       "      <th>338</th>\n",
       "      <td>mp-767320</td>\n",
       "      <td>Li3Co2(SiO4)2</td>\n",
       "      <td>P1</td>\n",
       "      <td>-2.406</td>\n",
       "      <td>0.090</td>\n",
       "      <td>0.323</td>\n",
       "      <td>15</td>\n",
       "      <td>3.043</td>\n",
       "      <td>176.207</td>\n",
       "      <td>False</td>\n",
       "      <td>triclinic</td>\n",
       "    </tr>\n",
       "  </tbody>\n",
       "</table>\n",
       "<p>339 rows × 11 columns</p>\n",
       "</div>"
      ],
      "text/plain": [
       "    Materials Id          Formula Spacegroup  Formation Energy (eV)  \\\n",
       "0      mp-849394        Li2MnSiO4         Pc                 -2.699   \n",
       "1      mp-783909        Li2MnSiO4      P21/c                 -2.696   \n",
       "2      mp-761311       Li4MnSi2O7         Cc                 -2.775   \n",
       "3      mp-761598     Li4Mn2Si3O10       C2/c                 -2.783   \n",
       "4      mp-767709     Li2Mn3Si3O10       C2/c                 -2.747   \n",
       "..           ...              ...        ...                    ...   \n",
       "334    mp-764961     Li6Co(SiO4)2         P1                 -2.545   \n",
       "335    mp-849520     LiCo3(SiO4)2         P1                 -2.250   \n",
       "336    mp-849656  Li5Co4(Si3O10)2         P1                 -2.529   \n",
       "337    mp-763557         LiCoSiO4         P1                 -2.348   \n",
       "338    mp-767320    Li3Co2(SiO4)2         P1                 -2.406   \n",
       "\n",
       "     E Above Hull (eV)  Band Gap (eV)  Nsites  Density (gm/cc)   Volume  \\\n",
       "0                0.006          3.462      16            2.993  178.513   \n",
       "1                0.008          2.879      32            2.926  365.272   \n",
       "2                0.012          3.653      28            2.761  301.775   \n",
       "3                0.013          3.015      38            2.908  436.183   \n",
       "4                0.016          2.578      36            3.334  421.286   \n",
       "..                 ...            ...     ...              ...      ...   \n",
       "334              0.071          2.685      17            2.753  171.772   \n",
       "335              0.076          0.005      42            3.318  552.402   \n",
       "336              0.082          0.176      35            2.940  428.648   \n",
       "337              0.087          1.333      14            2.451  214.044   \n",
       "338              0.090          0.323      15            3.043  176.207   \n",
       "\n",
       "     Has Bandstructure Crystal System  \n",
       "0                 True     monoclinic  \n",
       "1                 True     monoclinic  \n",
       "2                 True     monoclinic  \n",
       "3                 True     monoclinic  \n",
       "4                 True     monoclinic  \n",
       "..                 ...            ...  \n",
       "334               True      triclinic  \n",
       "335               True      triclinic  \n",
       "336               True      triclinic  \n",
       "337               True      triclinic  \n",
       "338              False      triclinic  \n",
       "\n",
       "[339 rows x 11 columns]"
      ]
     },
     "execution_count": 3,
     "metadata": {},
     "output_type": "execute_result"
    }
   ],
   "source": [
    "df"
   ]
  },
  {
   "cell_type": "code",
   "execution_count": 4,
   "id": "42f910b0",
   "metadata": {},
   "outputs": [
    {
     "name": "stdout",
     "output_type": "stream",
     "text": [
      "<class 'pandas.core.frame.DataFrame'>\n",
      "RangeIndex: 339 entries, 0 to 338\n",
      "Data columns (total 11 columns):\n",
      " #   Column                 Non-Null Count  Dtype  \n",
      "---  ------                 --------------  -----  \n",
      " 0   Materials Id           339 non-null    object \n",
      " 1   Formula                339 non-null    object \n",
      " 2   Spacegroup             339 non-null    object \n",
      " 3   Formation Energy (eV)  339 non-null    float64\n",
      " 4   E Above Hull (eV)      339 non-null    float64\n",
      " 5   Band Gap (eV)          339 non-null    float64\n",
      " 6   Nsites                 339 non-null    int64  \n",
      " 7   Density (gm/cc)        339 non-null    float64\n",
      " 8   Volume                 339 non-null    float64\n",
      " 9   Has Bandstructure      339 non-null    bool   \n",
      " 10  Crystal System         339 non-null    object \n",
      "dtypes: bool(1), float64(5), int64(1), object(4)\n",
      "memory usage: 26.9+ KB\n"
     ]
    }
   ],
   "source": [
    "df.info()"
   ]
  },
  {
   "cell_type": "markdown",
   "id": "97d9554a",
   "metadata": {},
   "source": [
    "### Data Pre-processing"
   ]
  },
  {
   "cell_type": "code",
   "execution_count": 5,
   "id": "24b8d4ed",
   "metadata": {},
   "outputs": [],
   "source": [
    "df = df.drop(['Materials Id'], axis=1)"
   ]
  },
  {
   "cell_type": "code",
   "execution_count": 6,
   "id": "f205dbb7",
   "metadata": {},
   "outputs": [
    {
     "name": "stdout",
     "output_type": "stream",
     "text": [
      "['Formation Energy (eV)', 'E Above Hull (eV)', 'Band Gap (eV)', 'Nsites', 'Density (gm/cc)', 'Volume'] ['Formula', 'Spacegroup', 'Has Bandstructure', 'Crystal System']\n"
     ]
    },
    {
     "data": {
      "text/html": [
       "<div>\n",
       "<style scoped>\n",
       "    .dataframe tbody tr th:only-of-type {\n",
       "        vertical-align: middle;\n",
       "    }\n",
       "\n",
       "    .dataframe tbody tr th {\n",
       "        vertical-align: top;\n",
       "    }\n",
       "\n",
       "    .dataframe thead th {\n",
       "        text-align: right;\n",
       "    }\n",
       "</style>\n",
       "<table border=\"1\" class=\"dataframe\">\n",
       "  <thead>\n",
       "    <tr style=\"text-align: right;\">\n",
       "      <th></th>\n",
       "      <th>Formula</th>\n",
       "      <th>Spacegroup</th>\n",
       "      <th>Formation Energy (eV)</th>\n",
       "      <th>E Above Hull (eV)</th>\n",
       "      <th>Band Gap (eV)</th>\n",
       "      <th>Nsites</th>\n",
       "      <th>Density (gm/cc)</th>\n",
       "      <th>Volume</th>\n",
       "      <th>Has Bandstructure</th>\n",
       "      <th>Crystal System</th>\n",
       "    </tr>\n",
       "  </thead>\n",
       "  <tbody>\n",
       "    <tr>\n",
       "      <th>0</th>\n",
       "      <td>-0.447048</td>\n",
       "      <td>-1.722253</td>\n",
       "      <td>1.272374</td>\n",
       "      <td>-0.988690</td>\n",
       "      <td>0.025455</td>\n",
       "      <td>-0.989769</td>\n",
       "      <td>54.0</td>\n",
       "      <td>31.0</td>\n",
       "      <td>1.0</td>\n",
       "      <td>0.0</td>\n",
       "    </tr>\n",
       "    <tr>\n",
       "      <th>1</th>\n",
       "      <td>-0.430703</td>\n",
       "      <td>-1.656286</td>\n",
       "      <td>0.735721</td>\n",
       "      <td>-0.296020</td>\n",
       "      <td>-0.164107</td>\n",
       "      <td>-0.350714</td>\n",
       "      <td>54.0</td>\n",
       "      <td>21.0</td>\n",
       "      <td>1.0</td>\n",
       "      <td>0.0</td>\n",
       "    </tr>\n",
       "    <tr>\n",
       "      <th>2</th>\n",
       "      <td>-0.861132</td>\n",
       "      <td>-1.524351</td>\n",
       "      <td>1.448190</td>\n",
       "      <td>-0.469187</td>\n",
       "      <td>-0.630939</td>\n",
       "      <td>-0.567989</td>\n",
       "      <td>81.0</td>\n",
       "      <td>6.0</td>\n",
       "      <td>1.0</td>\n",
       "      <td>0.0</td>\n",
       "    </tr>\n",
       "    <tr>\n",
       "      <th>3</th>\n",
       "      <td>-0.904720</td>\n",
       "      <td>-1.491367</td>\n",
       "      <td>0.860909</td>\n",
       "      <td>-0.036268</td>\n",
       "      <td>-0.215034</td>\n",
       "      <td>-0.108070</td>\n",
       "      <td>79.0</td>\n",
       "      <td>1.0</td>\n",
       "      <td>1.0</td>\n",
       "      <td>0.0</td>\n",
       "    </tr>\n",
       "    <tr>\n",
       "      <th>4</th>\n",
       "      <td>-0.708575</td>\n",
       "      <td>-1.392416</td>\n",
       "      <td>0.458650</td>\n",
       "      <td>-0.122852</td>\n",
       "      <td>0.990242</td>\n",
       "      <td>-0.159045</td>\n",
       "      <td>48.0</td>\n",
       "      <td>1.0</td>\n",
       "      <td>1.0</td>\n",
       "      <td>0.0</td>\n",
       "    </tr>\n",
       "  </tbody>\n",
       "</table>\n",
       "</div>"
      ],
      "text/plain": [
       "    Formula  Spacegroup  Formation Energy (eV)  E Above Hull (eV)  \\\n",
       "0 -0.447048   -1.722253               1.272374          -0.988690   \n",
       "1 -0.430703   -1.656286               0.735721          -0.296020   \n",
       "2 -0.861132   -1.524351               1.448190          -0.469187   \n",
       "3 -0.904720   -1.491367               0.860909          -0.036268   \n",
       "4 -0.708575   -1.392416               0.458650          -0.122852   \n",
       "\n",
       "   Band Gap (eV)    Nsites  Density (gm/cc)  Volume  Has Bandstructure  \\\n",
       "0       0.025455 -0.989769             54.0    31.0                1.0   \n",
       "1      -0.164107 -0.350714             54.0    21.0                1.0   \n",
       "2      -0.630939 -0.567989             81.0     6.0                1.0   \n",
       "3      -0.215034 -0.108070             79.0     1.0                1.0   \n",
       "4       0.990242 -0.159045             48.0     1.0                1.0   \n",
       "\n",
       "   Crystal System  \n",
       "0             0.0  \n",
       "1             0.0  \n",
       "2             0.0  \n",
       "3             0.0  \n",
       "4             0.0  "
      ]
     },
     "execution_count": 6,
     "metadata": {},
     "output_type": "execute_result"
    }
   ],
   "source": [
    "numerical_transformer = StandardScaler()\n",
    "label_transformer = OrdinalEncoder()\n",
    "\n",
    "n_cols = [c for c in df.columns if df[c].dtype in ['int64', 'float64', 'int32', 'float32']]\n",
    "obj_cols = [c for c in df.columns if df[c].dtype in ['object', 'bool']]\n",
    "print(n_cols, obj_cols)\n",
    "\n",
    "ct = ColumnTransformer([('num', numerical_transformer, n_cols), ('non_num', label_transformer, obj_cols),])\n",
    "processed = ct.fit_transform(df)\n",
    "new_df = pd.DataFrame(columns=df.columns, data=processed)\n",
    "new_df.head()"
   ]
  },
  {
   "cell_type": "code",
   "execution_count": 7,
   "id": "2ca97a5d",
   "metadata": {},
   "outputs": [
    {
     "name": "stdout",
     "output_type": "stream",
     "text": [
      "<class 'pandas.core.frame.DataFrame'>\n",
      "RangeIndex: 339 entries, 0 to 338\n",
      "Data columns (total 10 columns):\n",
      " #   Column                 Non-Null Count  Dtype  \n",
      "---  ------                 --------------  -----  \n",
      " 0   Formula                339 non-null    float64\n",
      " 1   Spacegroup             339 non-null    float64\n",
      " 2   Formation Energy (eV)  339 non-null    float64\n",
      " 3   E Above Hull (eV)      339 non-null    float64\n",
      " 4   Band Gap (eV)          339 non-null    float64\n",
      " 5   Nsites                 339 non-null    float64\n",
      " 6   Density (gm/cc)        339 non-null    float64\n",
      " 7   Volume                 339 non-null    float64\n",
      " 8   Has Bandstructure      339 non-null    float64\n",
      " 9   Crystal System         339 non-null    float64\n",
      "dtypes: float64(10)\n",
      "memory usage: 26.6 KB\n"
     ]
    }
   ],
   "source": [
    "new_df.info()"
   ]
  },
  {
   "cell_type": "markdown",
   "id": "24e540a7",
   "metadata": {},
   "source": [
    "### Data Visualization"
   ]
  },
  {
   "cell_type": "code",
   "execution_count": 8,
   "id": "9d066392",
   "metadata": {},
   "outputs": [
    {
     "data": {
      "text/plain": [
       "<AxesSubplot:>"
      ]
     },
     "execution_count": 8,
     "metadata": {},
     "output_type": "execute_result"
    },
    {
     "data": {
      "image/png": "[encoded data removed]",
      "text/plain": [
       "<Figure size 864x648 with 2 Axes>"
      ]
     },
     "metadata": {
      "needs_background": "light"
     },
     "output_type": "display_data"
    }
   ],
   "source": [
    "correlation = new_df.corr()\n",
    "f, ax = plt.subplots(figsize=(12,9))\n",
    "sns.heatmap(correlation, annot=True)"
   ]
  },
  {
   "cell_type": "markdown",
   "id": "69043cdc",
   "metadata": {},
   "source": [
    "### Splitting Data"
   ]
  },
  {
   "cell_type": "code",
   "execution_count": 9,
   "id": "b4a4d148",
   "metadata": {},
   "outputs": [],
   "source": [
    "x = new_df.drop([\"Crystal System\"], axis=1)\n",
    "y = new_df[\"Crystal System\"]"
   ]
  },
  {
   "cell_type": "code",
   "execution_count": 10,
   "id": "12be7110",
   "metadata": {},
   "outputs": [],
   "source": [
    "x_train, x_test, y_train, y_test = train_test_split(x, y, test_size = 0.30, random_state = 0)"
   ]
  },
  {
   "cell_type": "markdown",
   "id": "c5cfc649",
   "metadata": {},
   "source": [
    "### Decision Tree"
   ]
  },
  {
   "cell_type": "code",
   "execution_count": 11,
   "id": "571b2e81",
   "metadata": {},
   "outputs": [],
   "source": [
    "from sklearn import tree\n",
    "model = tree.DecisionTreeClassifier(criterion='entropy', min_samples_leaf=40, random_state = 0)"
   ]
  },
  {
   "cell_type": "code",
   "execution_count": 12,
   "id": "d5832431",
   "metadata": {},
   "outputs": [],
   "source": [
    "clf = model.fit(x_train, y_train)"
   ]
  },
  {
   "cell_type": "code",
   "execution_count": 13,
   "id": "e748e194",
   "metadata": {},
   "outputs": [
    {
     "data": {
      "text/plain": [
       "Volume                   0.973337\n",
       "Nsites                   0.026663\n",
       "Formula                  0.000000\n",
       "Spacegroup               0.000000\n",
       "Formation Energy (eV)    0.000000\n",
       "E Above Hull (eV)        0.000000\n",
       "Band Gap (eV)            0.000000\n",
       "Density (gm/cc)          0.000000\n",
       "Has Bandstructure        0.000000\n",
       "dtype: float64"
      ]
     },
     "execution_count": 13,
     "metadata": {},
     "output_type": "execute_result"
    }
   ],
   "source": [
    "feature_importance = pd.Series(model.feature_importances_,index=x.columns).sort_values(ascending=False)\n",
    "feature_importance"
   ]
  },
  {
   "cell_type": "markdown",
   "id": "ed2b8113",
   "metadata": {},
   "source": [
    "### Tree Visualization"
   ]
  },
  {
   "cell_type": "code",
   "execution_count": 14,
   "id": "a4c7ce45",
   "metadata": {},
   "outputs": [],
   "source": [
    "dot_data = tree.export_graphviz(model, out_file=None, feature_names=new_df.columns[:-1], filled = True)"
   ]
  },
  {
   "cell_type": "code",
   "execution_count": 15,
   "id": "91b9dbf9",
   "metadata": {},
   "outputs": [
    {
     "data": {
      "text/plain": [
       "'Source.gv.pdf'"
      ]
     },
     "execution_count": 15,
     "metadata": {},
     "output_type": "execute_result"
    }
   ],
   "source": [
    "graph = graphviz.Source(dot_data)\n",
    "graph.view()"
   ]
  },
  {
   "cell_type": "markdown",
   "id": "724b763f",
   "metadata": {},
   "source": [
    "### Predict Testing Data"
   ]
  },
  {
   "cell_type": "code",
   "execution_count": 16,
   "id": "aeb009e2",
   "metadata": {},
   "outputs": [],
   "source": [
    "y_pred = clf.predict(x_test)"
   ]
  },
  {
   "cell_type": "markdown",
   "id": "bc82bf0e",
   "metadata": {},
   "source": [
    "### Classification report and accuracy score"
   ]
  },
  {
   "cell_type": "code",
   "execution_count": 17,
   "id": "95eb24a6",
   "metadata": {
    "scrolled": true
   },
   "outputs": [
    {
     "name": "stdout",
     "output_type": "stream",
     "text": [
      "Akurasi:                precision    recall  f1-score   support\n",
      "\n",
      "         0.0       0.78      0.85      0.82        47\n",
      "         1.0       0.80      0.72      0.76        39\n",
      "         2.0       1.00      1.00      1.00        16\n",
      "\n",
      "    accuracy                           0.82       102\n",
      "   macro avg       0.86      0.86      0.86       102\n",
      "weighted avg       0.82      0.82      0.82       102\n",
      "\n"
     ]
    }
   ],
   "source": [
    "akurasi = classification_report(y_test, y_pred)\n",
    "print('Akurasi: ', akurasi)"
   ]
  },
  {
   "cell_type": "code",
   "execution_count": 18,
   "id": "8ff2b989",
   "metadata": {},
   "outputs": [
    {
     "name": "stdout",
     "output_type": "stream",
     "text": [
      "Tingkat akurasi: 82 persen\n"
     ]
    }
   ],
   "source": [
    "akurasi = accuracy_score(y_test, y_pred)\n",
    "print(\"Tingkat akurasi: %d persen\"%(akurasi*100))"
   ]
  },
  {
   "cell_type": "markdown",
   "id": "5cb6930c",
   "metadata": {},
   "source": [
    "### Confusion Matrix"
   ]
  },
  {
   "cell_type": "code",
   "execution_count": 19,
   "id": "39f7f689",
   "metadata": {},
   "outputs": [
    {
     "data": {
      "image/png": "[encoded data removed]",
      "text/plain": [
       "<Figure size 360x288 with 2 Axes>"
      ]
     },
     "metadata": {
      "needs_background": "light"
     },
     "output_type": "display_data"
    }
   ],
   "source": [
    "cm = confusion_matrix(y_test, y_pred)\n",
    "cm_df = pd.DataFrame(cm,\n",
    "                     index = ['Monoclinic','Orthorombic','Triclinic'], \n",
    "                     columns = ['Monoclinic','Orthorombic','Triclinic'])\n",
    "plt.figure(figsize=(5,4))\n",
    "sns.heatmap(cm_df, annot=True)\n",
    "plt.title('Confusion Matrix')\n",
    "plt.ylabel('Actual Values')\n",
    "plt.xlabel('Predicted Values')\n",
    "plt.show()"
   ]
  },
  {
   "cell_type": "markdown",
   "id": "bb26ea2c",
   "metadata": {},
   "source": [
    "### Actual and predicted table"
   ]
  },
  {
   "cell_type": "code",
   "execution_count": 20,
   "id": "1b365fb1",
   "metadata": {},
   "outputs": [
    {
     "data": {
      "text/html": [
       "<div>\n",
       "<style scoped>\n",
       "    .dataframe tbody tr th:only-of-type {\n",
       "        vertical-align: middle;\n",
       "    }\n",
       "\n",
       "    .dataframe tbody tr th {\n",
       "        vertical-align: top;\n",
       "    }\n",
       "\n",
       "    .dataframe thead th {\n",
       "        text-align: right;\n",
       "    }\n",
       "</style>\n",
       "<table border=\"1\" class=\"dataframe\">\n",
       "  <thead>\n",
       "    <tr style=\"text-align: right;\">\n",
       "      <th></th>\n",
       "      <th>Actual</th>\n",
       "      <th>Predicted</th>\n",
       "    </tr>\n",
       "  </thead>\n",
       "  <tbody>\n",
       "    <tr>\n",
       "      <th>76</th>\n",
       "      <td>0.0</td>\n",
       "      <td>1.0</td>\n",
       "    </tr>\n",
       "    <tr>\n",
       "      <th>270</th>\n",
       "      <td>2.0</td>\n",
       "      <td>2.0</td>\n",
       "    </tr>\n",
       "    <tr>\n",
       "      <th>224</th>\n",
       "      <td>1.0</td>\n",
       "      <td>1.0</td>\n",
       "    </tr>\n",
       "    <tr>\n",
       "      <th>159</th>\n",
       "      <td>1.0</td>\n",
       "      <td>1.0</td>\n",
       "    </tr>\n",
       "    <tr>\n",
       "      <th>241</th>\n",
       "      <td>1.0</td>\n",
       "      <td>0.0</td>\n",
       "    </tr>\n",
       "    <tr>\n",
       "      <th>...</th>\n",
       "      <td>...</td>\n",
       "      <td>...</td>\n",
       "    </tr>\n",
       "    <tr>\n",
       "      <th>229</th>\n",
       "      <td>1.0</td>\n",
       "      <td>0.0</td>\n",
       "    </tr>\n",
       "    <tr>\n",
       "      <th>34</th>\n",
       "      <td>0.0</td>\n",
       "      <td>0.0</td>\n",
       "    </tr>\n",
       "    <tr>\n",
       "      <th>142</th>\n",
       "      <td>1.0</td>\n",
       "      <td>1.0</td>\n",
       "    </tr>\n",
       "    <tr>\n",
       "      <th>97</th>\n",
       "      <td>0.0</td>\n",
       "      <td>0.0</td>\n",
       "    </tr>\n",
       "    <tr>\n",
       "      <th>85</th>\n",
       "      <td>0.0</td>\n",
       "      <td>0.0</td>\n",
       "    </tr>\n",
       "  </tbody>\n",
       "</table>\n",
       "<p>102 rows × 2 columns</p>\n",
       "</div>"
      ],
      "text/plain": [
       "     Actual  Predicted\n",
       "76      0.0        1.0\n",
       "270     2.0        2.0\n",
       "224     1.0        1.0\n",
       "159     1.0        1.0\n",
       "241     1.0        0.0\n",
       "..      ...        ...\n",
       "229     1.0        0.0\n",
       "34      0.0        0.0\n",
       "142     1.0        1.0\n",
       "97      0.0        0.0\n",
       "85      0.0        0.0\n",
       "\n",
       "[102 rows x 2 columns]"
      ]
     },
     "execution_count": 20,
     "metadata": {},
     "output_type": "execute_result"
    }
   ],
   "source": [
    "df1=pd.DataFrame({'Actual':y_test, 'Predicted':y_pred})\n",
    "df1"
   ]
  },
  {
   "cell_type": "code",
   "execution_count": null,
   "id": "897304a4",
   "metadata": {},
   "outputs": [],
   "source": []
  }
 ],
 "metadata": {
  "kernelspec": {
   "display_name": "Python 3",
   "language": "python",
   "name": "python3"
  },
  "language_info": {
   "codemirror_mode": {
    "name": "ipython",
    "version": 3
   },
   "file_extension": ".py",
   "mimetype": "text/x-python",
   "name": "python",
   "nbconvert_exporter": "python",
   "pygments_lexer": "ipython3",
   "version": "3.8.8"
  }
 },
 "nbformat": 4,
 "nbformat_minor": 5
}
